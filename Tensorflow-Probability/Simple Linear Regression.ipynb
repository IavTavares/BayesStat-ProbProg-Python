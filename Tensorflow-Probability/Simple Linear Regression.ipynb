{
 "cells": [
  {
   "cell_type": "code",
   "execution_count": 1,
   "id": "ec3f7b10",
   "metadata": {},
   "outputs": [],
   "source": [
    "import tensorflow as tf\n",
    "import tensorflow_probability as tfp\n",
    "import seaborn as sns\n",
    "import matplotlib.pyplot as plt\n",
    "import numpy as np\n"
   ]
  },
  {
   "cell_type": "code",
   "execution_count": 2,
   "id": "812e43d5",
   "metadata": {},
   "outputs": [],
   "source": [
    "tfd = tfp.distributions\n",
    "tfb = tfp.bijectors\n",
    "\n",
    "sns.set()"
   ]
  },
  {
   "cell_type": "code",
   "execution_count": 3,
   "id": "1b60d28f",
   "metadata": {},
   "outputs": [],
   "source": [
    "negloglik = lambda y, rv_y: -rv_y.log_prob(y)"
   ]
  },
  {
   "cell_type": "markdown",
   "id": "73a1381e",
   "metadata": {},
   "source": [
    "# Synthetic Dataset"
   ]
  },
  {
   "cell_type": "code",
   "execution_count": 34,
   "id": "8698311c",
   "metadata": {},
   "outputs": [],
   "source": [
    "def cp_dataset(n=150, n_tst=150,beta=2):\n",
    "    # to allow for reproducibility \n",
    "    np.random.seed(43)\n",
    "    # We're making the picking the input features randomly.\n",
    "    x = np.random.rand(n)\n",
    "    \n",
    "    #Let's make the errors heterosckedastic\n",
    "    eps = np.sqrt(x)*np.random.randn(n)\n",
    "    \n",
    "    y = (beta*x)+ eps\n",
    "    x = x[:, np.newaxis]\n",
    "    \n",
    "    # we're making the test inputs to be deterministic, probably different from the \n",
    "    # training input features\n",
    "    x_tst = np.linspace(np.min(x),np.max(x), num=n_tst).astype(np.float32)\n",
    "    x_tst = x_tst[:, np.newaxis]\n",
    "    return y, x, x_tst\n",
    "\n",
    "y_syn_ds, x_syn_ds, x_tst_syn_ds = cp_dataset()"
   ]
  },
  {
   "cell_type": "code",
   "execution_count": 35,
   "id": "7866ebcf",
   "metadata": {},
   "outputs": [
    {
     "data": {
      "image/png": "[encoded data removed]",
      "text/plain": [
       "<Figure size 432x288 with 1 Axes>"
      ]
     },
     "metadata": {},
     "output_type": "display_data"
    }
   ],
   "source": [
    "plt.scatter(x_syn_ds,y_syn_ds)\n",
    "plt.show()"
   ]
  },
  {
   "cell_type": "markdown",
   "id": "8649c2ba",
   "metadata": {},
   "source": [
    "# Building the model for Synth DS"
   ]
  },
  {
   "cell_type": "code",
   "execution_count": 13,
   "id": "40a40ea2",
   "metadata": {},
   "outputs": [
    {
     "data": {
      "text/plain": [
       "(150, 1)"
      ]
     },
     "execution_count": 13,
     "metadata": {},
     "output_type": "execute_result"
    }
   ],
   "source": [
    "x_tst_syn_ds.shape"
   ]
  },
  {
   "cell_type": "code",
   "execution_count": 40,
   "id": "85518177",
   "metadata": {},
   "outputs": [],
   "source": [
    "# Build model.\n",
    "model_syn_ds= tf.keras.Sequential([\n",
    "    tf.keras.layers.Dense(2, input_shape=(1,),name=\"Dense\"),\n",
    "    tfp.layers.DistributionLambda(lambda t: tfd.Normal(loc=t[:,:1], scale=t[:, 1:]),\n",
    "                                  convert_to_tensor_fn=tfd.Distribution.sample,\n",
    "                                  name=\"Distribution\")])"
   ]
  },
  {
   "cell_type": "code",
   "execution_count": 41,
   "id": "245e9c48",
   "metadata": {},
   "outputs": [],
   "source": [
    "# compiling the model\n",
    "model_syn_ds.compile(optimizer=tf.optimizers.Adam(learning_rate=0.01), loss=negloglik)"
   ]
  },
  {
   "cell_type": "code",
   "execution_count": 42,
   "id": "54a0935a",
   "metadata": {
    "scrolled": true
   },
   "outputs": [
    {
     "name": "stdout",
     "output_type": "stream",
     "text": [
      "Model: \"sequential_4\"\n",
      "_________________________________________________________________\n",
      " Layer (type)                Output Shape              Param #   \n",
      "=================================================================\n",
      " Dense (Dense)               (None, 2)                 4         \n",
      "                                                                 \n",
      " Distribution (DistributionL  ((None, 1),              0         \n",
      " ambda)                       (None, 1))                         \n",
      "                                                                 \n",
      "=================================================================\n",
      "Total params: 4\n",
      "Trainable params: 4\n",
      "Non-trainable params: 0\n",
      "_________________________________________________________________\n"
     ]
    }
   ],
   "source": [
    "model_syn_ds.summary()\n",
    "\n",
    "model_syn_ds.fit(x_syn_ds, y_syn_ds, epochs=1000, verbose=False);"
   ]
  },
  {
   "cell_type": "code",
   "execution_count": 48,
   "id": "2184dac5",
   "metadata": {
    "scrolled": true
   },
   "outputs": [
    {
     "name": "stdout",
     "output_type": "stream",
     "text": [
      "[[0.06563904]]\n",
      "[[0.10734452]]\n",
      "[[0.04005437]]\n",
      "[[0.27677578]]\n",
      "[[0.53991]]\n"
     ]
    }
   ],
   "source": [
    "try_point=np.array([[0]])\n",
    "for _ in range(5):\n",
    "    print(model_syn_ds.predict(try_point))"
   ]
  },
  {
   "cell_type": "markdown",
   "id": "9aff2859",
   "metadata": {},
   "source": [
    "Notice that whenever I run my model on a constant, it will always predict a different value. \n",
    "This is the main difference between probabilistic programming and deterministic programming.\n",
    "\n",
    "We now have a model which acts like a distribution!"
   ]
  },
  {
   "cell_type": "code",
   "execution_count": 45,
   "id": "a4d49d7c",
   "metadata": {},
   "outputs": [
    {
     "data": {
      "text/plain": [
       "[<tf.Variable 'Dense/kernel:0' shape=(1, 2) dtype=float32, numpy=array([[2.034828  , 0.83319634]], dtype=float32)>,\n",
       " <tf.Variable 'Dense/bias:0' shape=(2,) dtype=float32, numpy=array([0.02233634, 0.23062891], dtype=float32)>]"
      ]
     },
     "execution_count": 45,
     "metadata": {},
     "output_type": "execute_result"
    }
   ],
   "source": [
    "model_syn_ds.weights"
   ]
  },
  {
   "cell_type": "code",
   "execution_count": 46,
   "id": "42cf576a",
   "metadata": {},
   "outputs": [
    {
     "data": {
      "text/plain": [
       "(<tf.Tensor: shape=(), dtype=float32, numpy=0.029301262>,\n",
       " <tf.Tensor: shape=(), dtype=float32, numpy=0.14929952>)"
      ]
     },
     "execution_count": 46,
     "metadata": {},
     "output_type": "execute_result"
    }
   ],
   "source": [
    "model_cp_ds.weights[1][0],model_cp_ds.weights[1][1]"
   ]
  },
  {
   "cell_type": "code",
   "execution_count": 44,
   "id": "323af3c0",
   "metadata": {},
   "outputs": [],
   "source": [
    "# Do inference.\n",
    "yhat_syn_ds = model_syn_ds(x_tst_syn_ds)\n"
   ]
  },
  {
   "cell_type": "code",
   "execution_count": 47,
   "id": "9da71f1e",
   "metadata": {},
   "outputs": [
    {
     "data": {
      "image/png": "[encoded data removed]",
      "text/plain": [
       "<Figure size 432x288 with 1 Axes>"
      ]
     },
     "metadata": {},
     "output_type": "display_data"
    }
   ],
   "source": [
    "plt.scatter(x_tst_cp_ds,yhat_cp_ds.sample())\n",
    "plt.show()"
   ]
  },
  {
   "cell_type": "code",
   "execution_count": null,
   "id": "58713631",
   "metadata": {},
   "outputs": [],
   "source": []
  }
 ],
 "metadata": {
  "kernelspec": {
   "display_name": "Python 3",
   "language": "python",
   "name": "python3"
  },
  "language_info": {
   "codemirror_mode": {
    "name": "ipython",
    "version": 3
   },
   "file_extension": ".py",
   "mimetype": "text/x-python",
   "name": "python",
   "nbconvert_exporter": "python",
   "pygments_lexer": "ipython3",
   "version": "3.8.8"
  }
 },
 "nbformat": 4,
 "nbformat_minor": 5
}
